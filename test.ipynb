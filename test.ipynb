{
 "cells": [
  {
   "cell_type": "code",
   "execution_count": 1,
   "id": "7d1e2a62",
   "metadata": {},
   "outputs": [],
   "source": [
    "from langgraph.graph import StateGraph\n",
    "from typing import Annotated, TypedDict, List\n",
    "from operator import add\n",
    "from langchain_core.messages import BaseMessage, HumanMessage\n",
    "from langchain_openai import ChatOpenAI\n",
    "from langchain_core.runnables.graph import MermaidDrawMethod\n",
    "from IPython.display import Image, display\n"
   ]
  },
  {
   "cell_type": "markdown",
   "id": "5cb36a07",
   "metadata": {},
   "source": [
    "## Sequential Plan generation"
   ]
  },
  {
   "cell_type": "code",
   "execution_count": 6,
   "id": "f9075cae",
   "metadata": {},
   "outputs": [],
   "source": [
    "class AgentState(TypedDict):\n",
    "    messages: Annotated[List[BaseMessage], add]\n",
    "    plan: List[str]\n",
    "    dynatrace_result: str\n",
    "    log_result: str\n",
    "\n",
    "def planner(state: AgentState) -> AgentState:\n",
    "    query = state[\"messages\"][-1].content.lower()\n",
    "    plan = []\n",
    "\n",
    "    if \"performance\" in query or \"slow\" in query:\n",
    "        plan.append(\"dynatrace\")\n",
    "    if \"error\" in query or \"exception\" in query:\n",
    "        plan.append(\"log_exceptions\")\n",
    "    if not plan:\n",
    "        plan = [\"dynatrace\", \"log_exceptions\"]\n",
    "\n",
    "    state[\"plan\"] = plan\n",
    "    print(f\"[planner] Generated plan: {plan}\")\n",
    "    return state\n",
    "\n",
    "def dispatcher(state: AgentState) -> dict:\n",
    "    print(f\"[dispatcher] Current plan: {state['plan']}\")\n",
    "    if not state[\"plan\"]:\n",
    "        print(\"[dispatcher] Plan empty → routing to final_answer\")\n",
    "        return {\"next_step\": \"final_answer\"}\n",
    "    print(f\"[dispatcher] Routing to: {state['plan'][0]}\")\n",
    "    return {\"next_step\": state[\"plan\"][0]}\n",
    "\n",
    "def dynatrace_agent(state: AgentState) -> AgentState:\n",
    "    print(\"[dynatrace_agent] Running Dynatrace diagnostics...\")\n",
    "    state[\"dynatrace_result\"] = \"CPU spike detected in backend pod\"\n",
    "    return state\n",
    "\n",
    "def log_exceptions_agent(state: AgentState) -> AgentState:\n",
    "    print(\"[log_exceptions_agent] Running log analysis...\")\n",
    "    state[\"log_result\"] = \"NullPointerException in user-service\"\n",
    "    return state\n",
    "\n",
    "def update_plan(state: AgentState) -> AgentState:\n",
    "    print(f\"[update_plan] Plan before update: {state['plan']}\")\n",
    "    state[\"plan\"] = state[\"plan\"][1:]\n",
    "    print(f\"[update_plan] Plan after update: {state['plan']}\")\n",
    "    return state\n",
    "\n",
    "def final_answer_agent(state: AgentState) -> AgentState:\n",
    "    print(\"[final_answer_agent] Preparing final output...\")\n",
    "    summary = \"Issue Summary:\\n\"\n",
    "    if state.get(\"dynatrace_result\"):\n",
    "        summary += f\"- Infra: {state['dynatrace_result']}\\n\"\n",
    "    if state.get(\"log_result\"):\n",
    "        summary += f\"- Logs: {state['log_result']}\\n\"\n",
    "    print(\"[final_answer_agent] Final summary prepared.\")\n",
    "    state[\"messages\"].append(HumanMessage(content=summary.strip()))\n",
    "    return state\n",
    "\n",
    "# --- Step: pop completed item from plan\n",
    "def update_plan(state: AgentState) -> AgentState:\n",
    "    state[\"plan\"] = state[\"plan\"][1:]\n",
    "    return state\n",
    "\n",
    "# --- Build Graph ---\n",
    "builder = StateGraph(AgentState)\n",
    "builder.add_node(\"dispatcher\", dispatcher)\n",
    "builder.add_node(\"planner\", planner)\n",
    "builder.add_node(\"dynatrace\", dynatrace_agent)\n",
    "builder.add_node(\"log_exceptions\", log_exceptions_agent)\n",
    "builder.add_node(\"update_plan\", update_plan)\n",
    "builder.add_node(\"final_answer\", final_answer_agent)\n",
    "\n",
    "builder.set_entry_point(\"planner\")\n",
    "\n",
    "# Conditional routing based on plan\n",
    "# ✅ Conditional logic reads \"next_step\"\n",
    "builder.add_conditional_edges(\n",
    "    \"dispatcher\",\n",
    "    lambda state: state[\"next_step\"],\n",
    "    {\n",
    "        \"dynatrace\": \"dynatrace\",\n",
    "        \"log_exceptions\": \"log_exceptions\",\n",
    "        \"final_answer\": \"final_answer\"\n",
    "    }\n",
    ")\n",
    "\n",
    "# Connect graph\n",
    "builder.add_edge(\"planner\", \"dispatcher\")\n",
    "builder.add_edge(\"dynatrace\", \"update_plan\")\n",
    "builder.add_edge(\"log_exceptions\", \"update_plan\")\n",
    "builder.add_edge(\"update_plan\", \"dispatcher\")\n",
    "\n",
    "builder.set_finish_point(\"final_answer\")\n",
    "\n",
    "# Compile graph\n",
    "\n",
    "graph = builder.compile()\n",
    "\n"
   ]
  },
  {
   "cell_type": "code",
   "execution_count": 7,
   "id": "ded1e7f5",
   "metadata": {},
   "outputs": [
    {
     "data": {
      "image/png": "[encoded data removed]",
      "text/plain": [
       "<IPython.core.display.Image object>"
      ]
     },
     "metadata": {},
     "output_type": "display_data"
    }
   ],
   "source": [
    "# --- Visualize\n",
    "display(Image(graph.get_graph().draw_mermaid_png(draw_method=MermaidDrawMethod.API)))\n",
    "\n"
   ]
  },
  {
   "cell_type": "code",
   "execution_count": 8,
   "id": "81c167db",
   "metadata": {},
   "outputs": [
    {
     "name": "stdout",
     "output_type": "stream",
     "text": [
      "[planner] Generated plan: ['dynatrace', 'log_exceptions']\n",
      "[dispatcher] Current plan: ['dynatrace', 'log_exceptions']\n",
      "[dispatcher] Routing to: dynatrace\n",
      "[dynatrace_agent] Running Dynatrace diagnostics...\n",
      "[dispatcher] Current plan: ['log_exceptions']\n",
      "[dispatcher] Routing to: log_exceptions\n",
      "[log_exceptions_agent] Running log analysis...\n",
      "[dispatcher] Current plan: []\n",
      "[dispatcher] Plan empty → routing to final_answer\n",
      "[final_answer_agent] Preparing final output...\n",
      "[final_answer_agent] Final summary prepared.\n",
      "Issue Summary:\n",
      "- Infra: CPU spike detected in backend pod\n",
      "- Logs: NullPointerException in user-service\n"
     ]
    }
   ],
   "source": [
    "# --- Run\n",
    "initial_state = {\n",
    "    \"messages\": [HumanMessage(content=\"What's wrong with my application?\")],\n",
    "    \"dynatrace_result\": \"\",\n",
    "    \"log_result\": \"\",\n",
    "    \"plan\": []\n",
    "}\n",
    "\n",
    "final_state = graph.invoke(initial_state)\n",
    "print(final_state[\"messages\"][-1].content)"
   ]
  },
  {
   "cell_type": "code",
   "execution_count": null,
   "id": "6aaf7e1d",
   "metadata": {},
   "outputs": [],
   "source": []
  },
  {
   "cell_type": "code",
   "execution_count": null,
   "id": "9d51c4ca",
   "metadata": {},
   "outputs": [],
   "source": [
    "## Parallen Plan Execution- Simple"
   ]
  },
  {
   "cell_type": "code",
   "execution_count": 9,
   "id": "982ec581",
   "metadata": {},
   "outputs": [],
   "source": [
    "# --- Imports ---\n",
    "from langgraph.graph import StateGraph, END, START\n",
    "from typing import Annotated, TypedDict, List\n",
    "from operator import add\n",
    "from langchain_core.messages import BaseMessage, HumanMessage\n",
    "from langchain_openai import ChatOpenAI\n",
    "from langchain_core.runnables.graph import MermaidDrawMethod\n",
    "from langchain_core.runnables import RunnableParallel\n",
    "from IPython.display import display, Image"
   ]
  },
  {
   "cell_type": "code",
   "execution_count": 10,
   "id": "88eb7aa4",
   "metadata": {},
   "outputs": [],
   "source": [
    "# --- State Definition ---\n",
    "class AgentState(TypedDict):\n",
    "    messages: Annotated[List[BaseMessage], add]\n",
    "    plan: List[str]\n",
    "    dynatrace_result: str\n",
    "    log_result: str\n",
    "\n",
    "# --- Planner Node ---\n",
    "def planner(state: AgentState) -> AgentState:\n",
    "    query = state[\"messages\"][-1].content.lower()\n",
    "    plan = []\n",
    "\n",
    "    if \"performance\" in query or \"slow\" in query:\n",
    "        plan.append(\"dynatrace\")\n",
    "    if \"error\" in query or \"exception\" in query:\n",
    "        plan.append(\"log_exceptions\")\n",
    "    if not plan:\n",
    "        plan = [\"dynatrace\", \"log_exceptions\"]\n",
    "\n",
    "    state[\"plan\"] = plan\n",
    "    print(f\"[planner] Generated plan: {plan}\")\n",
    "    return state\n",
    "\n",
    "# --- Tool: Dynatrace ---\n",
    "def dynatrace_agent(state: AgentState) -> AgentState:\n",
    "    print(\"[dynatrace_agent] Running Dynatrace diagnostics...\")\n",
    "    return {\"dynatrace_result\": \"CPU spike detected in backend pod\"}\n",
    "\n",
    "# --- Tool: Logs ---\n",
    "def log_exceptions_agent(state: AgentState) -> AgentState:\n",
    "    print(\"[log_exceptions_agent] Running log analysis...\")\n",
    "    return {\"log_result\": \"NullPointerException in user-service\"}\n",
    "\n",
    "# --- Parallel Executor Node ---\n",
    "def parallel_executor(state: AgentState) -> AgentState:\n",
    "    plan = state[\"plan\"]\n",
    "    tools = {}\n",
    "\n",
    "    if \"dynatrace\" in plan:\n",
    "        tools[\"dynatrace_result\"] = dynatrace_agent\n",
    "    if \"log_exceptions\" in plan:\n",
    "        tools[\"log_result\"] = log_exceptions_agent\n",
    "\n",
    "    print(f\"[parallel_executor] Executing tools in parallel: {list(tools.keys())}\")\n",
    "    runner = RunnableParallel(tools)\n",
    "    tool_outputs = runner.invoke(state)\n",
    "\n",
    "    print(f\"[parallel_executor] Results: {tool_outputs}\")\n",
    "    state.update(tool_outputs)\n",
    "    return state\n",
    "\n",
    "# --- Final Answer Node ---\n",
    "def final_answer_agent(state: AgentState) -> AgentState:\n",
    "    print(\"[final_answer_agent] Preparing final output...\")\n",
    "    summary = \"Issue Summary:\\n\"\n",
    "    if state.get(\"dynatrace_result\"):\n",
    "        summary += f\"- Infra: {state['dynatrace_result']}\\n\"\n",
    "    if state.get(\"log_result\"):\n",
    "        summary += f\"- Logs: {state['log_result']}\\n\"\n",
    "    state[\"messages\"].append(HumanMessage(content=summary.strip()))\n",
    "    print(\"[final_answer_agent] Final summary prepared.\")\n",
    "    return state\n",
    "\n",
    "# --- Build Graph ---\n",
    "builder = StateGraph(AgentState)\n",
    "builder.add_node(\"planner\", planner)\n",
    "builder.add_node(\"parallel_executor\", parallel_executor)\n",
    "builder.add_node(\"final_answer\", final_answer_agent)\n",
    "\n",
    "builder.set_entry_point(\"planner\")\n",
    "builder.add_edge(\"planner\", \"parallel_executor\")\n",
    "builder.add_edge(\"parallel_executor\", \"final_answer\")\n",
    "builder.set_finish_point(\"final_answer\")\n",
    "\n",
    "graph = builder.compile()\n"
   ]
  },
  {
   "cell_type": "code",
   "execution_count": 11,
   "id": "72115a3e",
   "metadata": {},
   "outputs": [
    {
     "data": {
      "image/png": "[encoded data removed]",
      "text/plain": [
       "<IPython.core.display.Image object>"
      ]
     },
     "metadata": {},
     "output_type": "display_data"
    }
   ],
   "source": [
    "display(Image(graph.get_graph().draw_mermaid_png(draw_method=MermaidDrawMethod.API)))"
   ]
  },
  {
   "cell_type": "code",
   "execution_count": 12,
   "id": "83e1c1ee",
   "metadata": {},
   "outputs": [
    {
     "name": "stdout",
     "output_type": "stream",
     "text": [
      "[planner] Generated plan: ['dynatrace', 'log_exceptions']\n",
      "[parallel_executor] Executing tools in parallel: ['dynatrace_result', 'log_result']\n",
      "[dynatrace_agent] Running Dynatrace diagnostics...\n",
      "[log_exceptions_agent] Running log analysis...\n",
      "[parallel_executor] Results: {'dynatrace_result': {'dynatrace_result': 'CPU spike detected in backend pod'}, 'log_result': {'log_result': 'NullPointerException in user-service'}}\n",
      "[final_answer_agent] Preparing final output...\n",
      "[final_answer_agent] Final summary prepared.\n",
      "Issue Summary:\n",
      "- Infra: {'dynatrace_result': 'CPU spike detected in backend pod'}\n",
      "- Logs: {'log_result': 'NullPointerException in user-service'}\n"
     ]
    }
   ],
   "source": [
    "# --- Run the Graph ---\n",
    "initial_state = {\n",
    "    \"messages\": [HumanMessage(content=\"What's wrong with my application?\")],\n",
    "    \"plan\": [],\n",
    "    \"dynatrace_result\": \"\",\n",
    "    \"log_result\": \"\"\n",
    "}\n",
    "\n",
    "final_state = graph.invoke(initial_state)\n",
    "print(final_state[\"messages\"][-1].content)"
   ]
  },
  {
   "cell_type": "code",
   "execution_count": null,
   "id": "41984833",
   "metadata": {},
   "outputs": [],
   "source": []
  },
  {
   "cell_type": "code",
   "execution_count": null,
   "id": "2d936d92",
   "metadata": {},
   "outputs": [],
   "source": [
    "## parallel Eecition with Aysnc io"
   ]
  },
  {
   "cell_type": "code",
   "execution_count": 13,
   "id": "8c8a65ba",
   "metadata": {},
   "outputs": [],
   "source": [
    "# --- Imports ---\n",
    "import asyncio\n",
    "from typing import Annotated, TypedDict, List\n",
    "from operator import add\n",
    "\n",
    "from langchain_core.runnables import RunnableParallel, RunnableLambda\n",
    "from langchain_core.messages import HumanMessage, BaseMessage\n",
    "from langgraph.graph import StateGraph\n",
    "from langchain_core.runnables.graph import MermaidDrawMethod\n",
    "from IPython.display import display, Image\n"
   ]
  },
  {
   "cell_type": "code",
   "execution_count": 14,
   "id": "9e4dc10c",
   "metadata": {},
   "outputs": [],
   "source": [
    "# --- Step 1: Define State ---\n",
    "class AgentState(TypedDict):\n",
    "    messages: Annotated[List[BaseMessage], add]\n",
    "    plan: List[str]\n",
    "    dynatrace_result: str\n",
    "    log_result: str\n",
    "\n",
    "# --- Step 2: Async Planner Node ---\n",
    "async def planner(state: AgentState) -> AgentState:\n",
    "    query = state[\"messages\"][-1].content.lower()\n",
    "    plan = []\n",
    "\n",
    "    if \"performance\" in query or \"slow\" in query:\n",
    "        plan.append(\"dynatrace\")\n",
    "    if \"error\" in query or \"exception\" in query:\n",
    "        plan.append(\"log_exceptions\")\n",
    "    if not plan:\n",
    "        plan = [\"dynatrace\", \"log_exceptions\"]\n",
    "\n",
    "    state[\"plan\"] = plan\n",
    "    print(f\"[planner] Generated plan: {plan}\")\n",
    "    return state\n",
    "\n",
    "# --- Step 3: Async Diagnostic Tools ---\n",
    "\n",
    "async def dynatrace_agent_async(state):\n",
    "    print(\"[dynatrace_agent_async] Simulating async work...\")\n",
    "    await asyncio.sleep(1)\n",
    "    return \"CPU spike detected in backend pod\"\n",
    "\n",
    "async def log_exceptions_agent_async(state):\n",
    "    print(\"[log_exceptions_agent_async] Simulating async work...\")\n",
    "    await asyncio.sleep(1)\n",
    "    return \"NullPointerException in user-service\"\n",
    "\n",
    "# --- Step 4: Parallel Executor Node ---\n",
    "async def parallel_executor(state: AgentState) -> AgentState:\n",
    "    plan = state[\"plan\"]\n",
    "    tools = {}\n",
    "\n",
    "    if \"dynatrace\" in plan:\n",
    "        tools[\"dynatrace_result\"] = RunnableLambda(dynatrace_agent_async)\n",
    "    if \"log_exceptions\" in plan:\n",
    "        tools[\"log_result\"] = RunnableLambda(log_exceptions_agent_async)\n",
    "\n",
    "    print(f\"[parallel_executor] Running in parallel: {list(tools.keys())}\")\n",
    "    parallel_runner = RunnableParallel(tools)\n",
    "    results = await parallel_runner.ainvoke(state)\n",
    "\n",
    "    print(f\"[parallel_executor] Results: {results}\")\n",
    "    state.update(results)\n",
    "    return state\n",
    "\n",
    "# --- Step 5: Final Summarizer Node ---\n",
    "async def final_answer_agent(state: AgentState) -> AgentState:\n",
    "    print(\"[final_answer_agent] Creating summary...\")\n",
    "    summary = \"Issue Summary:\\n\"\n",
    "    if state.get(\"dynatrace_result\"):\n",
    "        summary += f\"- Infra: {state['dynatrace_result']}\\n\"\n",
    "    if state.get(\"log_result\"):\n",
    "        summary += f\"- Logs: {state['log_result']}\\n\"\n",
    "    state[\"messages\"].append(HumanMessage(content=summary.strip()))\n",
    "    return state\n",
    "\n",
    "# --- Step 6: Build LangGraph ---\n",
    "builder = StateGraph(AgentState)\n",
    "\n",
    "builder.add_node(\"planner\", planner)\n",
    "builder.add_node(\"parallel_executor\", parallel_executor)\n",
    "builder.add_node(\"final_answer\", final_answer_agent)\n",
    "\n",
    "builder.set_entry_point(\"planner\")\n",
    "builder.add_edge(\"planner\", \"parallel_executor\")\n",
    "builder.add_edge(\"parallel_executor\", \"final_answer\")\n",
    "builder.set_finish_point(\"final_answer\")\n",
    "\n",
    "graph = builder.compile()\n"
   ]
  },
  {
   "cell_type": "code",
   "execution_count": 15,
   "id": "e65e3bec",
   "metadata": {},
   "outputs": [
    {
     "data": {
      "image/png": "[encoded data removed]",
      "text/plain": [
       "<IPython.core.display.Image object>"
      ]
     },
     "metadata": {},
     "output_type": "display_data"
    }
   ],
   "source": [
    "display(Image(graph.get_graph().draw_mermaid_png(draw_method=MermaidDrawMethod.API)))\n"
   ]
  },
  {
   "cell_type": "code",
   "execution_count": 16,
   "id": "df4e96e4",
   "metadata": {},
   "outputs": [
    {
     "name": "stdout",
     "output_type": "stream",
     "text": [
      "[planner] Generated plan: ['dynatrace', 'log_exceptions']\n",
      "[parallel_executor] Running in parallel: ['dynatrace_result', 'log_result']\n",
      "[dynatrace_agent_async] Simulating async work...\n",
      "[log_exceptions_agent_async] Simulating async work...\n",
      "[parallel_executor] Results: {'dynatrace_result': 'CPU spike detected in backend pod', 'log_result': 'NullPointerException in user-service'}\n",
      "[final_answer_agent] Creating summary...\n",
      "\n",
      "✅ Final Response:\n",
      " Issue Summary:\n",
      "- Infra: CPU spike detected in backend pod\n",
      "- Logs: NullPointerException in user-service\n"
     ]
    }
   ],
   "source": [
    "# --- Step 7: Run the Graph ---\n",
    "initial_state = {\n",
    "    \"messages\": [HumanMessage(content=\"What's wrong with my application?\")],\n",
    "    \"plan\": [],\n",
    "    \"dynatrace_result\": \"\",\n",
    "    \"log_result\": \"\"\n",
    "}\n",
    "\n",
    "final_state = await graph.ainvoke(initial_state)\n",
    "print(\"\\n✅ Final Response:\\n\", final_state[\"messages\"][-1].content)"
   ]
  }
 ],
 "metadata": {
  "kernelspec": {
   "display_name": "genai",
   "language": "python",
   "name": "python3"
  },
  "language_info": {
   "codemirror_mode": {
    "name": "ipython",
    "version": 3
   },
   "file_extension": ".py",
   "mimetype": "text/x-python",
   "name": "python",
   "nbconvert_exporter": "python",
   "pygments_lexer": "ipython3",
   "version": "3.10.16"
  }
 },
 "nbformat": 4,
 "nbformat_minor": 5
}
